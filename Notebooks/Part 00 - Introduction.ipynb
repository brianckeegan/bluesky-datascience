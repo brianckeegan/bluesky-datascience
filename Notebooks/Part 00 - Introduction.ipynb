{
 "cells": [
  {
   "cell_type": "markdown",
   "metadata": {},
   "source": [
    "# Bluesky Data Science\n",
    "## Part 00 - Introduction\n",
    "\n",
    "November 2024  \n",
    "Copyright and distributed under an [MIT License](https://opensource.org/licenses/MIT)"
   ]
  },
  {
   "cell_type": "markdown",
   "metadata": {},
   "source": [
    "## Background\n",
    "\n",
    "> **tl;dr**: This is a series of notebooks introducing functionality for doing common data science tasks using the ATProto protocol powering Bluesky, a post-Twitter microblogging platform.\n",
    "\n",
    "### RIP Twitter\n",
    "\n",
    "After Twitter's acquisition by Elon Musk in October 2022, the platform rapidly deteriorated through active mismanagement by dismissing the teams dedicated to trust and safety, policy, and research. Bots, spam, and extremist content have proliferated and Musk's active campaigning on behalf of Donald Trump's 2024 presidential campaign has further disillusioned users.\n",
    "\n",
    "Access to Twitter data via its API was also enclosed behind an exorbitantly priced paywall, effectively shutting out researchers, journalists, and students. Given the increasingly precarity of Twitter's API access, I no longer recommend that researchers build research projects around Twitter. \n",
    "\n",
    "### Bluesky\n",
    "Alternative microblogging services like [Bluesky](https://bsky.app) and [Mastodon](https://joinmastodon.org/) have emerged in this aftermath. Bluesky, in particular, appears to have attracted a critical mass of regular and influential users as well as persuasive features for safety, on-boarding new users, and data access. You will need to have access to a Bluesky/ATProto account and password to proceed.\n",
    "\n",
    "Bluesky runs on a decentralized social networking software called the \"authenticated transfer protocol\" or \"ATProto\". More details about ATProto:\n",
    "\n",
    "* [Documentation](https://docs.bsky.app/docs/advanced-guides/atproto)\n",
    "* [Github repo](https://github.com/bluesky-social/atproto)\n",
    "* [Wikipedia article](https://en.wikipedia.org/wiki/AT_Protocol)\n",
    "\n",
    "As data scientists we want to responsibly retrieve data from the social network to understand the behavior of its users. Instead of using web scraping techniques to retrieve this data through a web browser, we will leverage the application programming interfaces (APIs) provided by ATProto to get (and post) data about posts, users, timelines, *etc*. We are going to leverage the ATProto Python software development kit (SDK) developed by Ilya Siamionau:\n",
    "\n",
    "* [Documentation](https://atproto.blue/en/latest/)\n",
    "* [Github repo](https://github.com/MarshalX/atproto)\n",
    "\n",
    "We are going to build on many of the [examples](https://github.com/MarshalX/atproto/tree/main/examples) published in the ATProto Python SDK.\n",
    "\n",
    "### Code\n",
    "This is a Jupyter Notebook, a framework that allows developers and researchers to write code and documentation inside a file that can also execute code and embed tables and figures. This Notebook is developed in the Anaconda package environment for managing other scientific libraries. Please consult the any of the many tutorials about using Jupyter Notebooks if you are not already familiar:\n",
    "\n",
    "* [Documentation](https://docs.jupyter.org/en/latest/)\n",
    "* [Dataquest tutorial](https://www.dataquest.io/blog/jupyter-notebook-tutorial/)\n",
    "* [Datacamp tutorial](https://www.datacamp.com/tutorial/tutorial-jupyter-notebook)\n",
    "* [Codecademy](https://www.codecademy.com/article/how-to-use-jupyter-notebooks)\n",
    "\n",
    "The rest of the notebooks will assume familiarity with basic Python data structures (lists, dictionaries), flow control and exception handling (`if`, `for`, `while`, `try`), and objects (methods, attributes).\n",
    "\n",
    "### Setup\n",
    "To access data from Bluesky's ATProto APIs, we need to install the atproto library. \n",
    "\n",
    "**You should only need to run this cell once.** After it is installed the first time, you can skip it in the future."
   ]
  },
  {
   "cell_type": "code",
   "execution_count": null,
   "metadata": {},
   "outputs": [],
   "source": [
    "! conda install atproto -c conda-forge --yes"
   ]
  },
  {
   "cell_type": "markdown",
   "metadata": {},
   "source": [
    "We'll need a few common libraries for all these examples."
   ]
  },
  {
   "cell_type": "code",
   "execution_count": 3,
   "metadata": {},
   "outputs": [],
   "source": [
    "# Lets us talk to other servers on the web\n",
    "import requests\n",
    "\n",
    "# APIs spit out data in JSON\n",
    "import json\n",
    "\n",
    "# Handling dates and times\n",
    "from datetime import datetime\n",
    "\n",
    "# DataFrames\n",
    "import pandas as pd\n",
    "import numpy as np\n",
    "\n",
    "# Data visualization\n",
    "%matplotlib inline\n",
    "import matplotlib.pyplot as plt"
   ]
  },
  {
   "cell_type": "markdown",
   "metadata": {},
   "source": [
    "## Client\n",
    "\n",
    "Once installed, import the library and client."
   ]
  },
  {
   "cell_type": "code",
   "execution_count": 2,
   "metadata": {},
   "outputs": [],
   "source": [
    "# Import the atproto Client object\n",
    "from atproto import Client"
   ]
  },
  {
   "cell_type": "markdown",
   "metadata": {},
   "source": [
    "You will need to enter your Bluesky/ATProto username and password to retrieve data through this `Client` object.\n",
    "\n",
    "**NOTE**: Storing your username and password in plain text like this Jupyter Notebook is an *enormous* security risk. Do not share your notebook with others or they will be able to access and post to your account! Replace these values your account's handle and password."
   ]
  },
  {
   "cell_type": "code",
   "execution_count": 1,
   "metadata": {},
   "outputs": [],
   "source": [
    "atproto_creds = {}\n",
    "atproto_creds['handle'] = 'YourAccount.bsky.social'\n",
    "atproto_creds['password'] = 'AVerySecurePassword'"
   ]
  },
  {
   "cell_type": "markdown",
   "metadata": {},
   "source": [
    "The better alternative is to store your account credentials in a file called \"atproto.json\" outside the notebook. You can copy this code below into a text editor. Make sure to save the file in the same location where you are running this notebook.\n",
    "\n",
    "```\n",
    "{\n",
    "    \"handle\": \"YourAccount.bsky.social\",\n",
    "    \"password\": \"AVerySecurePassword\"\n",
    "}\n",
    "```\n",
    "\n",
    "This next code block will not work for you unless you have created a JSON file called \"atproto.json\" like the one above that lives in the same directory as where you are running this notebook."
   ]
  },
  {
   "cell_type": "code",
   "execution_count": 5,
   "metadata": {},
   "outputs": [],
   "source": [
    "with open('atproto.json','r') as f:\n",
    "    atproto_creds = json.load(f)"
   ]
  },
  {
   "cell_type": "markdown",
   "metadata": {},
   "source": [
    "Set up your connection to the API."
   ]
  },
  {
   "cell_type": "code",
   "execution_count": 8,
   "metadata": {},
   "outputs": [
    {
     "name": "stdout",
     "output_type": "stream",
     "text": [
      "brianckeegan.com\n"
     ]
    }
   ],
   "source": [
    "# Create a client instance\n",
    "client = Client()\n",
    "\n",
    "# Use the client to log in\n",
    "profile = client.login(\n",
    "    login = atproto_creds['handle'],\n",
    "    password = atproto_creds['password']\n",
    ")\n",
    "\n",
    "# Once logged in, print the profile handle\n",
    "print(profile.handle)"
   ]
  },
  {
   "cell_type": "markdown",
   "metadata": {},
   "source": [
    "Now you are getting data from the Bluesky/ATProto API!"
   ]
  },
  {
   "cell_type": "markdown",
   "metadata": {},
   "source": [
    "## Profile\n",
    "\n",
    "The `profile` object returned from the client contains a variety of metadata about our account.\n",
    "\n",
    "The `.dict()` method convers the `ProfileView` object into a more accessible dictionary object."
   ]
  },
  {
   "cell_type": "code",
   "execution_count": 22,
   "metadata": {
    "scrolled": false
   },
   "outputs": [
    {
     "data": {
      "text/plain": [
       "{'did': 'did:plc:lse7quaysss2d3xxm76mouhd',\n",
       " 'handle': 'brianckeegan.com',\n",
       " 'associated': {'chat': {'allow_incoming': 'following',\n",
       "   'py_type': 'app.bsky.actor.defs#profileAssociatedChat'},\n",
       "  'feedgens': 0,\n",
       "  'labeler': False,\n",
       "  'lists': 0,\n",
       "  'starter_packs': 0,\n",
       "  'py_type': 'app.bsky.actor.defs#profileAssociated'},\n",
       " 'avatar': 'https://cdn.bsky.app/img/avatar/plain/did:plc:lse7quaysss2d3xxm76mouhd/bafkreicfipjusogzrmin7y7tazfkgvhlytnqo5x3cld4ye7hdqamgsznrm@jpeg',\n",
       " 'banner': 'https://cdn.bsky.app/img/banner/plain/did:plc:lse7quaysss2d3xxm76mouhd/bafkreibmrmhm2xashjwsaqv2mkmiot6gnv7jqmr4us7w3dpne3d6fuilmq@jpeg',\n",
       " 'created_at': '2023-05-25T20:28:43.424Z',\n",
       " 'description': '{Social, Data, Network, Information} Scientist.\\n\\nHigh-tempo collaboration, information commons, public interest data science.\\n\\nBorn at 345ppm. \\n\\nhttps://www.brianckeegan.com/',\n",
       " 'display_name': 'Brian C. Keegan',\n",
       " 'followers_count': 1823,\n",
       " 'follows_count': 1014,\n",
       " 'indexed_at': '2024-11-13T20:46:24.612Z',\n",
       " 'joined_via_starter_pack': None,\n",
       " 'labels': [{'cts': '1970-01-01T00:00:00.000Z',\n",
       "   'src': 'did:plc:lse7quaysss2d3xxm76mouhd',\n",
       "   'uri': 'at://did:plc:lse7quaysss2d3xxm76mouhd/app.bsky.actor.profile/self',\n",
       "   'val': '!no-unauthenticated',\n",
       "   'cid': 'bafyreifo53ku6ixow3ag2frksey74wj7etxbrqfzhzyq3djfi3mbgmnyx4',\n",
       "   'exp': None,\n",
       "   'neg': None,\n",
       "   'sig': None,\n",
       "   'ver': None,\n",
       "   'py_type': 'com.atproto.label.defs#label'}],\n",
       " 'pinned_post': {'cid': 'bafyreibejdopbflywc4vtcujpcayugjxurka6iw5jz5cyarlcjuhzq5jnu',\n",
       "  'uri': 'at://did:plc:lse7quaysss2d3xxm76mouhd/app.bsky.feed.post/3lapatupctc2s',\n",
       "  'py_type': 'com.atproto.repo.strongRef'},\n",
       " 'posts_count': 997,\n",
       " 'viewer': {'blocked_by': False,\n",
       "  'blocking': None,\n",
       "  'blocking_by_list': None,\n",
       "  'followed_by': None,\n",
       "  'following': None,\n",
       "  'known_followers': {'count': 494,\n",
       "   'followers': [{'did': 'did:plc:zehd7si3ipmvfvmyuvq53gti',\n",
       "     'handle': 'davidcarroll.org',\n",
       "     'associated': {'chat': {'allow_incoming': 'all',\n",
       "       'py_type': 'app.bsky.actor.defs#profileAssociatedChat'},\n",
       "      'feedgens': None,\n",
       "      'labeler': None,\n",
       "      'lists': None,\n",
       "      'starter_packs': None,\n",
       "      'py_type': 'app.bsky.actor.defs#profileAssociated'},\n",
       "     'avatar': 'https://cdn.bsky.app/img/avatar/plain/did:plc:zehd7si3ipmvfvmyuvq53gti/bafkreiebrt2he3ratsesmygh3bzfzmxvirhy3ztjuqdqokgdixnyyhhiuy@jpeg',\n",
       "     'created_at': '2023-05-07T12:10:20.787Z',\n",
       "     'display_name': 'David Carroll',\n",
       "     'labels': [],\n",
       "     'viewer': {'blocked_by': False,\n",
       "      'blocking': None,\n",
       "      'blocking_by_list': None,\n",
       "      'followed_by': 'at://did:plc:zehd7si3ipmvfvmyuvq53gti/app.bsky.graph.follow/3jwph6pwxq32o',\n",
       "      'following': 'at://did:plc:lse7quaysss2d3xxm76mouhd/app.bsky.graph.follow/3jwob72o6hd2o',\n",
       "      'known_followers': None,\n",
       "      'muted': False,\n",
       "      'muted_by_list': None,\n",
       "      'py_type': 'app.bsky.actor.defs#viewerState'},\n",
       "     'py_type': 'app.bsky.actor.defs#profileViewBasic'},\n",
       "    {'did': 'did:plc:og4dkp7yxaumwtwmfwe7otxw',\n",
       "     'handle': 'zittrain.bsky.social',\n",
       "     'associated': None,\n",
       "     'avatar': 'https://cdn.bsky.app/img/avatar/plain/did:plc:og4dkp7yxaumwtwmfwe7otxw/bafkreido6ryzqfunrjp5yvy5vp3d54qbv74efs7ci2nkdqpylblargm7tq@jpeg',\n",
       "     'created_at': '2023-02-02T14:46:45.917Z',\n",
       "     'display_name': 'Jonathan Zittrain',\n",
       "     'labels': [],\n",
       "     'viewer': {'blocked_by': False,\n",
       "      'blocking': None,\n",
       "      'blocking_by_list': None,\n",
       "      'followed_by': 'at://did:plc:og4dkp7yxaumwtwmfwe7otxw/app.bsky.graph.follow/3jwnfjgjzic25',\n",
       "      'following': 'at://did:plc:lse7quaysss2d3xxm76mouhd/app.bsky.graph.follow/3jwlhfehx2c2l',\n",
       "      'known_followers': None,\n",
       "      'muted': False,\n",
       "      'muted_by_list': None,\n",
       "      'py_type': 'app.bsky.actor.defs#viewerState'},\n",
       "     'py_type': 'app.bsky.actor.defs#profileViewBasic'},\n",
       "    {'did': 'did:plc:exrxvyu6bpoym6mbnctke5tn',\n",
       "     'handle': 'molly.wiki',\n",
       "     'associated': {'chat': {'allow_incoming': 'all',\n",
       "       'py_type': 'app.bsky.actor.defs#profileAssociatedChat'},\n",
       "      'feedgens': None,\n",
       "      'labeler': None,\n",
       "      'lists': None,\n",
       "      'starter_packs': None,\n",
       "      'py_type': 'app.bsky.actor.defs#profileAssociated'},\n",
       "     'avatar': 'https://cdn.bsky.app/img/avatar/plain/did:plc:exrxvyu6bpoym6mbnctke5tn/bafkreibiohyczyzxp3auyguy2klhslnv3nqgehpu7daglouztx4zziy2yq@jpeg',\n",
       "     'created_at': '2023-04-23T23:50:42.831Z',\n",
       "     'display_name': 'Molly White',\n",
       "     'labels': [],\n",
       "     'viewer': {'blocked_by': False,\n",
       "      'blocking': None,\n",
       "      'blocking_by_list': None,\n",
       "      'followed_by': 'at://did:plc:exrxvyu6bpoym6mbnctke5tn/app.bsky.graph.follow/3jwlkyc652k2d',\n",
       "      'following': 'at://did:plc:lse7quaysss2d3xxm76mouhd/app.bsky.graph.follow/3jwlhdy3mu22f',\n",
       "      'known_followers': None,\n",
       "      'muted': False,\n",
       "      'muted_by_list': None,\n",
       "      'py_type': 'app.bsky.actor.defs#viewerState'},\n",
       "     'py_type': 'app.bsky.actor.defs#profileViewBasic'},\n",
       "    {'did': 'did:plc:nsleqcwfgkzynyqmkcahcvu2',\n",
       "     'handle': 'annejonas.bsky.social',\n",
       "     'associated': None,\n",
       "     'avatar': 'https://cdn.bsky.app/img/avatar/plain/did:plc:nsleqcwfgkzynyqmkcahcvu2/bafkreiheb7ie4hdqtrwfzxwwl2cudlmvpudwwxi2agglfnymla7ki7wm5i@jpeg',\n",
       "     'created_at': '2023-06-28T10:01:17.343Z',\n",
       "     'display_name': 'Anne Jonas 🌻',\n",
       "     'labels': [],\n",
       "     'viewer': {'blocked_by': False,\n",
       "      'blocking': None,\n",
       "      'blocking_by_list': None,\n",
       "      'followed_by': 'at://did:plc:nsleqcwfgkzynyqmkcahcvu2/app.bsky.graph.follow/3kbq6nzhxph2u',\n",
       "      'following': 'at://did:plc:lse7quaysss2d3xxm76mouhd/app.bsky.graph.follow/3kbq7ja4jew2l',\n",
       "      'known_followers': None,\n",
       "      'muted': False,\n",
       "      'muted_by_list': None,\n",
       "      'py_type': 'app.bsky.actor.defs#viewerState'},\n",
       "     'py_type': 'app.bsky.actor.defs#profileViewBasic'}],\n",
       "   'py_type': 'app.bsky.actor.defs#knownFollowers'},\n",
       "  'muted': False,\n",
       "  'muted_by_list': None,\n",
       "  'py_type': 'app.bsky.actor.defs#viewerState'},\n",
       " 'py_type': 'app.bsky.actor.defs#profileViewDetailed'}"
      ]
     },
     "execution_count": 22,
     "metadata": {},
     "output_type": "execute_result"
    }
   ],
   "source": [
    "profile.dict()"
   ]
  },
  {
   "cell_type": "markdown",
   "metadata": {},
   "source": [
    "What else is available inside the `profile` object? We can retrieve other metadata via attributes."
   ]
  },
  {
   "cell_type": "code",
   "execution_count": 11,
   "metadata": {},
   "outputs": [
    {
     "name": "stdout",
     "output_type": "stream",
     "text": [
      "{Social, Data, Network, Information} Scientist.\n",
      "\n",
      "High-tempo collaboration, information commons, public interest data science.\n",
      "\n",
      "Born at 345ppm. \n",
      "\n",
      "https://www.brianckeegan.com/\n"
     ]
    }
   ],
   "source": [
    "# Profile description\n",
    "print(profile.description)"
   ]
  },
  {
   "cell_type": "code",
   "execution_count": 12,
   "metadata": {},
   "outputs": [
    {
     "name": "stdout",
     "output_type": "stream",
     "text": [
      "Brian C. Keegan\n"
     ]
    }
   ],
   "source": [
    "# Display name\n",
    "print(profile.display_name)"
   ]
  },
  {
   "cell_type": "code",
   "execution_count": 115,
   "metadata": {},
   "outputs": [
    {
     "data": {
      "text/plain": [
       "22734"
      ]
     },
     "execution_count": 115,
     "metadata": {},
     "output_type": "execute_result"
    }
   ],
   "source": [
    "# Number of followers\n",
    "profile.followers_count"
   ]
  },
  {
   "cell_type": "code",
   "execution_count": 116,
   "metadata": {},
   "outputs": [
    {
     "data": {
      "text/plain": [
       "407"
      ]
     },
     "execution_count": 116,
     "metadata": {},
     "output_type": "execute_result"
    }
   ],
   "source": [
    "# Number of follows\n",
    "profile.follows_count"
   ]
  },
  {
   "cell_type": "code",
   "execution_count": 117,
   "metadata": {},
   "outputs": [
    {
     "data": {
      "text/plain": [
       "111"
      ]
     },
     "execution_count": 117,
     "metadata": {},
     "output_type": "execute_result"
    }
   ],
   "source": [
    "# Number of posts\n",
    "profile.posts_count"
   ]
  },
  {
   "cell_type": "code",
   "execution_count": 118,
   "metadata": {},
   "outputs": [
    {
     "data": {
      "text/plain": [
       "'2023-04-29T16:59:53.679Z'"
      ]
     },
     "execution_count": 118,
     "metadata": {},
     "output_type": "execute_result"
    }
   ],
   "source": [
    "# Date account was created\n",
    "profile.created_at"
   ]
  },
  {
   "cell_type": "code",
   "execution_count": 112,
   "metadata": {},
   "outputs": [
    {
     "name": "stdout",
     "output_type": "stream",
     "text": [
      "https://cdn.bsky.app/img/avatar/plain/did:plc:lse7quaysss2d3xxm76mouhd/bafkreicfipjusogzrmin7y7tazfkgvhlytnqo5x3cld4ye7hdqamgsznrm@jpeg\n"
     ]
    }
   ],
   "source": [
    "# Link to where avatar is stored\n",
    "print(profile.avatar)"
   ]
  },
  {
   "cell_type": "markdown",
   "metadata": {},
   "source": [
    "All the attributes are listed here. (You could type `dir(profile)` and get a lot of other helper attributes and methods, I've tried to filter these out by omitting the leading underscore)"
   ]
  },
  {
   "cell_type": "code",
   "execution_count": 17,
   "metadata": {},
   "outputs": [
    {
     "data": {
      "text/plain": [
       "['associated',\n",
       " 'avatar',\n",
       " 'banner',\n",
       " 'construct',\n",
       " 'copy',\n",
       " 'created_at',\n",
       " 'description',\n",
       " 'dict',\n",
       " 'did',\n",
       " 'display_name',\n",
       " 'followers_count',\n",
       " 'follows_count',\n",
       " 'from_orm',\n",
       " 'handle',\n",
       " 'indexed_at',\n",
       " 'joined_via_starter_pack',\n",
       " 'json',\n",
       " 'labels',\n",
       " 'model_computed_fields',\n",
       " 'model_config',\n",
       " 'model_construct',\n",
       " 'model_copy',\n",
       " 'model_dump',\n",
       " 'model_dump_json',\n",
       " 'model_extra',\n",
       " 'model_fields',\n",
       " 'model_fields_set',\n",
       " 'model_json_schema',\n",
       " 'model_parametrized_name',\n",
       " 'model_post_init',\n",
       " 'model_rebuild',\n",
       " 'model_validate',\n",
       " 'model_validate_json',\n",
       " 'model_validate_strings',\n",
       " 'parse_file',\n",
       " 'parse_obj',\n",
       " 'parse_raw',\n",
       " 'pinned_post',\n",
       " 'posts_count',\n",
       " 'py_type',\n",
       " 'schema',\n",
       " 'schema_json',\n",
       " 'update_forward_refs',\n",
       " 'validate',\n",
       " 'viewer']"
      ]
     },
     "execution_count": 17,
     "metadata": {},
     "output_type": "execute_result"
    }
   ],
   "source": [
    "[i for i in dir(profile) if i[0] != '_']"
   ]
  },
  {
   "cell_type": "markdown",
   "metadata": {},
   "source": [
    "### Retrieving other users' profiles\n",
    "\n",
    "Use the `.get_profile()` function to retrieve the profile information for another user by their handle."
   ]
  },
  {
   "cell_type": "code",
   "execution_count": 21,
   "metadata": {
    "scrolled": false
   },
   "outputs": [
    {
     "data": {
      "text/plain": [
       "{'did': 'did:plc:z72i7hdynmk6r22z27h6tvur',\n",
       " 'handle': 'bsky.app',\n",
       " 'associated': {'chat': {'allow_incoming': 'none',\n",
       "   'py_type': 'app.bsky.actor.defs#profileAssociatedChat'},\n",
       "  'feedgens': 6,\n",
       "  'labeler': False,\n",
       "  'lists': 2,\n",
       "  'starter_packs': 0,\n",
       "  'py_type': 'app.bsky.actor.defs#profileAssociated'},\n",
       " 'avatar': 'https://cdn.bsky.app/img/avatar/plain/did:plc:z72i7hdynmk6r22z27h6tvur/bafkreihagr2cmvl2jt4mgx3sppwe2it3fwolkrbtjrhcnwjk4jdijhsoze@jpeg',\n",
       " 'banner': 'https://cdn.bsky.app/img/banner/plain/did:plc:z72i7hdynmk6r22z27h6tvur/bafkreichzyovokfzmymz36p5jibbjrhsur6n7hjnzxrpbt5jaydp2szvna@jpeg',\n",
       " 'created_at': '2023-04-12T04:53:57.057Z',\n",
       " 'description': 'official Bluesky account (check domain👆)\\n\\nPress: press@blueskyweb.xyz\\nSupport: support@bsky.app',\n",
       " 'display_name': 'Bluesky',\n",
       " 'followers_count': 9287387,\n",
       " 'follows_count': 2,\n",
       " 'indexed_at': '2024-10-17T07:17:00.646Z',\n",
       " 'joined_via_starter_pack': None,\n",
       " 'labels': [],\n",
       " 'pinned_post': {'cid': 'bafyreicnt42y6vo6pfpvyro234ac4o6ijug6adwwrh7awflgrqlt4zibxq',\n",
       "  'uri': 'at://did:plc:z72i7hdynmk6r22z27h6tvur/app.bsky.feed.post/3l6oveex3ii2l',\n",
       "  'py_type': 'com.atproto.repo.strongRef'},\n",
       " 'posts_count': 431,\n",
       " 'viewer': {'blocked_by': False,\n",
       "  'blocking': None,\n",
       "  'blocking_by_list': None,\n",
       "  'followed_by': None,\n",
       "  'following': 'at://did:plc:lse7quaysss2d3xxm76mouhd/app.bsky.graph.follow/3k2j5g7wah223',\n",
       "  'known_followers': {'count': 413,\n",
       "   'followers': [{'did': 'did:plc:sb54dpdfefflykmf5bcfvr7t',\n",
       "     'handle': 'bellingcat.com',\n",
       "     'associated': {'chat': {'allow_incoming': 'following',\n",
       "       'py_type': 'app.bsky.actor.defs#profileAssociatedChat'},\n",
       "      'feedgens': None,\n",
       "      'labeler': None,\n",
       "      'lists': None,\n",
       "      'starter_packs': None,\n",
       "      'py_type': 'app.bsky.actor.defs#profileAssociated'},\n",
       "     'avatar': 'https://cdn.bsky.app/img/avatar/plain/did:plc:sb54dpdfefflykmf5bcfvr7t/bafkreick3tvuw6kxfcpjgnxf75dhigmll53w5jgvin4mw3hre344o4tmiu@jpeg',\n",
       "     'created_at': '2023-04-28T10:47:07.541Z',\n",
       "     'display_name': 'Bellingcat',\n",
       "     'labels': [],\n",
       "     'viewer': {'blocked_by': False,\n",
       "      'blocking': None,\n",
       "      'blocking_by_list': None,\n",
       "      'followed_by': None,\n",
       "      'following': 'at://did:plc:lse7quaysss2d3xxm76mouhd/app.bsky.graph.follow/3kbh3yo5j6625',\n",
       "      'known_followers': None,\n",
       "      'muted': False,\n",
       "      'muted_by_list': None,\n",
       "      'py_type': 'app.bsky.actor.defs#viewerState'},\n",
       "     'py_type': 'app.bsky.actor.defs#profileViewBasic'},\n",
       "    {'did': 'did:plc:cyyd366g3hrxp5rynixm2mm3',\n",
       "     'handle': 'depthsofwikipedia.bsky.social',\n",
       "     'associated': None,\n",
       "     'avatar': 'https://cdn.bsky.app/img/avatar/plain/did:plc:cyyd366g3hrxp5rynixm2mm3/bafkreigmds5bayqx5pujf7rzf6uirkclet7mpx3ak3uj37lfzacydu4tbm@jpeg',\n",
       "     'created_at': '2023-04-27T20:15:13.661Z',\n",
       "     'display_name': 'depths of wikipedia',\n",
       "     'labels': [],\n",
       "     'viewer': {'blocked_by': False,\n",
       "      'blocking': None,\n",
       "      'blocking_by_list': None,\n",
       "      'followed_by': None,\n",
       "      'following': 'at://did:plc:lse7quaysss2d3xxm76mouhd/app.bsky.graph.follow/3jwlhd6gz3m2v',\n",
       "      'known_followers': None,\n",
       "      'muted': False,\n",
       "      'muted_by_list': None,\n",
       "      'py_type': 'app.bsky.actor.defs#viewerState'},\n",
       "     'py_type': 'app.bsky.actor.defs#profileViewBasic'},\n",
       "    {'did': 'did:plc:62gdkmpwa7xme36getyqnem3',\n",
       "     'handle': 'astrokatie.com',\n",
       "     'associated': {'chat': {'allow_incoming': 'following',\n",
       "       'py_type': 'app.bsky.actor.defs#profileAssociatedChat'},\n",
       "      'feedgens': None,\n",
       "      'labeler': None,\n",
       "      'lists': None,\n",
       "      'starter_packs': None,\n",
       "      'py_type': 'app.bsky.actor.defs#profileAssociated'},\n",
       "     'avatar': 'https://cdn.bsky.app/img/avatar/plain/did:plc:62gdkmpwa7xme36getyqnem3/bafkreia7wdfi6wwp5dfe3tn2urjnkkujdds6x2bjebf2bbjnxx2h36cnnu@jpeg',\n",
       "     'created_at': '2023-04-21T05:03:00.394Z',\n",
       "     'display_name': 'Katie Mack',\n",
       "     'labels': [],\n",
       "     'viewer': {'blocked_by': False,\n",
       "      'blocking': None,\n",
       "      'blocking_by_list': None,\n",
       "      'followed_by': None,\n",
       "      'following': 'at://did:plc:lse7quaysss2d3xxm76mouhd/app.bsky.graph.follow/3jzbuh73tyx22',\n",
       "      'known_followers': None,\n",
       "      'muted': False,\n",
       "      'muted_by_list': None,\n",
       "      'py_type': 'app.bsky.actor.defs#viewerState'},\n",
       "     'py_type': 'app.bsky.actor.defs#profileViewBasic'},\n",
       "    {'did': 'did:plc:p5yoii26kayabauhkym3vtms',\n",
       "     'handle': 'ryanlcooper.com',\n",
       "     'associated': {'chat': {'allow_incoming': 'following',\n",
       "       'py_type': 'app.bsky.actor.defs#profileAssociatedChat'},\n",
       "      'feedgens': None,\n",
       "      'labeler': None,\n",
       "      'lists': None,\n",
       "      'starter_packs': None,\n",
       "      'py_type': 'app.bsky.actor.defs#profileAssociated'},\n",
       "     'avatar': 'https://cdn.bsky.app/img/avatar/plain/did:plc:p5yoii26kayabauhkym3vtms/bafkreibnw64wfvhkpvjbpswpkmpacjmy7limybgbypxjob7qavqckiyomi@jpeg',\n",
       "     'created_at': '2023-04-29T03:05:34.744Z',\n",
       "     'display_name': 'ryan cooper',\n",
       "     'labels': [],\n",
       "     'viewer': {'blocked_by': False,\n",
       "      'blocking': None,\n",
       "      'blocking_by_list': None,\n",
       "      'followed_by': None,\n",
       "      'following': 'at://did:plc:lse7quaysss2d3xxm76mouhd/app.bsky.graph.follow/3k4kxmtlyso2i',\n",
       "      'known_followers': None,\n",
       "      'muted': False,\n",
       "      'muted_by_list': None,\n",
       "      'py_type': 'app.bsky.actor.defs#viewerState'},\n",
       "     'py_type': 'app.bsky.actor.defs#profileViewBasic'},\n",
       "    {'did': 'did:plc:qc6xzgctorfsm35w6i3vdebx',\n",
       "     'handle': 'zitron.bsky.social',\n",
       "     'associated': {'chat': {'allow_incoming': 'all',\n",
       "       'py_type': 'app.bsky.actor.defs#profileAssociatedChat'},\n",
       "      'feedgens': None,\n",
       "      'labeler': None,\n",
       "      'lists': None,\n",
       "      'starter_packs': None,\n",
       "      'py_type': 'app.bsky.actor.defs#profileAssociated'},\n",
       "     'avatar': 'https://cdn.bsky.app/img/avatar/plain/did:plc:qc6xzgctorfsm35w6i3vdebx/bafkreibgh6r4f4wieic4nwizzew3idf2u6nkt7xauyqjofiaafapuivvw4@jpeg',\n",
       "     'created_at': '2023-04-25T19:18:06.530Z',\n",
       "     'display_name': 'Ed Zitron',\n",
       "     'labels': [],\n",
       "     'viewer': {'blocked_by': False,\n",
       "      'blocking': None,\n",
       "      'blocking_by_list': None,\n",
       "      'followed_by': None,\n",
       "      'following': 'at://did:plc:lse7quaysss2d3xxm76mouhd/app.bsky.graph.follow/3k443zhodlp2i',\n",
       "      'known_followers': None,\n",
       "      'muted': False,\n",
       "      'muted_by_list': None,\n",
       "      'py_type': 'app.bsky.actor.defs#viewerState'},\n",
       "     'py_type': 'app.bsky.actor.defs#profileViewBasic'}],\n",
       "   'py_type': 'app.bsky.actor.defs#knownFollowers'},\n",
       "  'muted': False,\n",
       "  'muted_by_list': None,\n",
       "  'py_type': 'app.bsky.actor.defs#viewerState'},\n",
       " 'py_type': 'app.bsky.actor.defs#profileViewDetailed'}"
      ]
     },
     "execution_count": 21,
     "metadata": {},
     "output_type": "execute_result"
    }
   ],
   "source": [
    "# Retrieve the data and store as bsky_app_profile\n",
    "bsky_app_profile = client.get_profile('bsky.app')\n",
    "\n",
    "# Inspect the JSON\n",
    "bsky_app_profile.dict()"
   ]
  },
  {
   "cell_type": "markdown",
   "metadata": {},
   "source": [
    "## Posts\n",
    "Get posts from author. Use the `get_author_feed()` function to return up to 100 posts at a time for an account."
   ]
  },
  {
   "cell_type": "code",
   "execution_count": 19,
   "metadata": {},
   "outputs": [
    {
     "data": {
      "text/plain": [
       "97"
      ]
     },
     "execution_count": 19,
     "metadata": {},
     "output_type": "execute_result"
    }
   ],
   "source": [
    "profile_feed = client.get_author_feed(\n",
    "    actor = 'brianckeegan.com',\n",
    "    limit = 100\n",
    ")\n",
    "\n",
    "len(profile_feed.feed)"
   ]
  },
  {
   "cell_type": "markdown",
   "metadata": {},
   "source": [
    "Access the posts via the `.feed` attribute."
   ]
  },
  {
   "cell_type": "code",
   "execution_count": 20,
   "metadata": {},
   "outputs": [
    {
     "data": {
      "text/plain": [
       "'{\"author\":{\"did\":\"did:plc:2pkng5eiv24p4rdpkes2envv\",\"handle\":\"boulderhousing.bsky.social\",\"associated\":null,\"avatar\":\"https://cdn.bsky.app/img/avatar/plain/did:plc:2pkng5eiv24p4rdpkes2envv/bafkreigtadxlwxfxm77ykbs374lmatpyyevh662e6szdzvifeeifnd23hm@jpeg\",\"created_at\":\"2024-11-14T01:43:47.108Z\",\"display_name\":\"BoulderHousing.net\",\"labels\":[],\"viewer\":{\"blocked_by\":false,\"blocking\":null,\"blocking_by_list\":null,\"followed_by\":\"at://did:plc:2pkng5eiv24p4rdpkes2envv/app.bsky.graph.follow/3lautdbvn7q2q\",\"following\":\"at://did:plc:lse7quaysss2d3xxm76mouhd/app.bsky.graph.follow/3lauqwo5olg2s\",\"known_followers\":null,\"muted\":false,\"muted_by_list\":null,\"py_type\":\"app.bsky.actor.defs#viewerState\"},\"py_type\":\"app.bsky.actor.defs#profileViewBasic\"},\"cid\":\"bafyreids5ufcm63id6hay3gyznz4cowi5w3wxqnq4rnvijp62nqswmupfa\",\"indexed_at\":\"2024-11-14T01:51:03.240Z\",\"record\":{\"created_at\":\"2024-11-14T01:51:03.240Z\",\"text\":\"Hello BSkyers! We advocate for more housing in Boulder. Read our latest newsletter here. us7.campaign-archive.com?u=88b4010f25...\",\"embed\":null,\"entities\":null,\"facets\":[{\"features\":[{\"uri\":\"https://us7.campaign-archive.com/?u=88b4010f25193668a9468f69e&id=e3bc131992\",\"py_type\":\"app.bsky.richtext.facet#link\"}],\"index\":{\"byte_end\":129,\"byte_start\":89,\"py_type\":\"app.bsky.richtext.facet#byteSlice\"},\"py_type\":\"app.bsky.richtext.facet\"}],\"labels\":null,\"langs\":[\"en\"],\"reply\":null,\"tags\":null,\"py_type\":\"app.bsky.feed.post\"},\"uri\":\"at://did:plc:2pkng5eiv24p4rdpkes2envv/app.bsky.feed.post/3lauqrhardc2g\",\"embed\":null,\"labels\":[],\"like_count\":14,\"quote_count\":0,\"reply_count\":0,\"repost_count\":4,\"threadgate\":null,\"viewer\":{\"embedding_disabled\":false,\"like\":\"at://did:plc:lse7quaysss2d3xxm76mouhd/app.bsky.feed.like/3lauqwixmsv2n\",\"pinned\":null,\"reply_disabled\":null,\"repost\":\"at://did:plc:lse7quaysss2d3xxm76mouhd/app.bsky.feed.repost/3lauqwlzjtn2t\",\"thread_muted\":false,\"py_type\":\"app.bsky.feed.defs#viewerState\"},\"py_type\":\"app.bsky.feed.defs#postView\"}'"
      ]
     },
     "execution_count": 20,
     "metadata": {},
     "output_type": "execute_result"
    }
   ],
   "source": [
    "profile_feed.feed[0].post.dict()"
   ]
  },
  {
   "cell_type": "markdown",
   "metadata": {},
   "source": [
    "## Timeline\n",
    "Get current timeline."
   ]
  },
  {
   "cell_type": "code",
   "execution_count": 123,
   "metadata": {},
   "outputs": [
    {
     "data": {
      "text/plain": [
       "48"
      ]
     },
     "execution_count": 123,
     "metadata": {},
     "output_type": "execute_result"
    }
   ],
   "source": [
    "timeline = client.get_timeline(algorithm='reverse-chronological')\n",
    "\n",
    "len(timeline.feed)"
   ]
  },
  {
   "cell_type": "code",
   "execution_count": 125,
   "metadata": {},
   "outputs": [
    {
     "data": {
      "text/plain": [
       "{'author': {'did': 'did:plc:gthl7kdyryv5lylos55da747',\n",
       "  'handle': 'bcdreyer.bsky.social',\n",
       "  'associated': {'chat': {'allow_incoming': 'following',\n",
       "    'py_type': 'app.bsky.actor.defs#profileAssociatedChat'},\n",
       "   'feedgens': None,\n",
       "   'labeler': None,\n",
       "   'lists': None,\n",
       "   'starter_packs': None,\n",
       "   'py_type': 'app.bsky.actor.defs#profileAssociated'},\n",
       "  'avatar': 'https://cdn.bsky.app/img/avatar/plain/did:plc:gthl7kdyryv5lylos55da747/bafkreieuifdijuivbvvdmmyph2nvcsk37l6eub4rru4qoxe6vphserfn6i@jpeg',\n",
       "  'created_at': '2023-06-24T12:46:55.564Z',\n",
       "  'display_name': 'Benjamin Dreyer',\n",
       "  'labels': [],\n",
       "  'viewer': {'blocked_by': False,\n",
       "   'blocking': None,\n",
       "   'blocking_by_list': None,\n",
       "   'followed_by': None,\n",
       "   'following': None,\n",
       "   'known_followers': None,\n",
       "   'muted': False,\n",
       "   'muted_by_list': None,\n",
       "   'py_type': 'app.bsky.actor.defs#viewerState'},\n",
       "  'py_type': 'app.bsky.actor.defs#profileViewBasic'},\n",
       " 'cid': 'bafyreihk4375rbayimrbxa5iwfqax7n6hfuz3arjjjwxjtjhiysgqazsma',\n",
       " 'indexed_at': '2024-11-12T17:29:34.011Z',\n",
       " 'record': {'created_at': '2024-11-12T17:29:34.011Z',\n",
       "  'text': \"[I've been all sweetness and light here lately, but if you quote-skeet me to inform the world that you're smarter than I am, you're going to get your ass, at least, muted.] \\n\\n[Happily, no one here seems to engage in snitch-tagging, except that one time (and guess what happened).]\",\n",
       "  'embed': None,\n",
       "  'entities': None,\n",
       "  'facets': None,\n",
       "  'labels': None,\n",
       "  'langs': ['en'],\n",
       "  'reply': None,\n",
       "  'tags': None,\n",
       "  'py_type': 'app.bsky.feed.post'},\n",
       " 'uri': 'at://did:plc:gthl7kdyryv5lylos55da747/app.bsky.feed.post/3larebshkok24',\n",
       " 'embed': None,\n",
       " 'labels': [],\n",
       " 'like_count': 10,\n",
       " 'quote_count': 1,\n",
       " 'reply_count': 0,\n",
       " 'repost_count': 1,\n",
       " 'threadgate': None,\n",
       " 'viewer': {'embedding_disabled': False,\n",
       "  'like': None,\n",
       "  'pinned': None,\n",
       "  'reply_disabled': None,\n",
       "  'repost': None,\n",
       "  'thread_muted': False,\n",
       "  'py_type': 'app.bsky.feed.defs#viewerState'},\n",
       " 'py_type': 'app.bsky.feed.defs#postView'}"
      ]
     },
     "execution_count": 125,
     "metadata": {},
     "output_type": "execute_result"
    }
   ],
   "source": [
    "timeline.feed[1].post.dict()"
   ]
  },
  {
   "cell_type": "markdown",
   "metadata": {},
   "source": [
    "## Relationships\n",
    "\n",
    "### Follows\n",
    "Follows are the accounts that an account follows. Their posts appear in the account's timeline. We can only retrieve up to 100 at a time."
   ]
  },
  {
   "cell_type": "code",
   "execution_count": 126,
   "metadata": {},
   "outputs": [
    {
     "data": {
      "text/plain": [
       "100"
      ]
     },
     "execution_count": 126,
     "metadata": {},
     "output_type": "execute_result"
    }
   ],
   "source": [
    "follows = client.get_follows(actor='brianckeegan.com',limit=100)\n",
    "\n",
    "len(follows.follows)"
   ]
  },
  {
   "cell_type": "code",
   "execution_count": 127,
   "metadata": {},
   "outputs": [
    {
     "data": {
      "text/plain": [
       "{'did': 'did:plc:tfkzy22x2og2w2264fycbb7b',\n",
       " 'handle': 'dwensign.bsky.social',\n",
       " 'associated': None,\n",
       " 'avatar': 'https://cdn.bsky.app/img/avatar/plain/did:plc:tfkzy22x2og2w2264fycbb7b/bafkreiheq3a63cx2aibhlwi5qrk7rtwxi6eplh7xzvmszjeondoszhsql4@jpeg',\n",
       " 'created_at': '2024-09-04T00:32:07.231Z',\n",
       " 'description': None,\n",
       " 'display_name': 'David Ensign',\n",
       " 'indexed_at': '2024-11-12T05:05:10.639Z',\n",
       " 'labels': [],\n",
       " 'viewer': {'blocked_by': False,\n",
       "  'blocking': None,\n",
       "  'blocking_by_list': None,\n",
       "  'followed_by': 'at://did:plc:tfkzy22x2og2w2264fycbb7b/app.bsky.graph.follow/3laq33af3fj2b',\n",
       "  'following': 'at://did:plc:lse7quaysss2d3xxm76mouhd/app.bsky.graph.follow/3laq3lzprkv23',\n",
       "  'known_followers': None,\n",
       "  'muted': False,\n",
       "  'muted_by_list': None,\n",
       "  'py_type': 'app.bsky.actor.defs#viewerState'},\n",
       " 'py_type': 'app.bsky.actor.defs#profileView'}"
      ]
     },
     "execution_count": 127,
     "metadata": {},
     "output_type": "execute_result"
    }
   ],
   "source": [
    "follows.follows[0].dict()"
   ]
  },
  {
   "cell_type": "markdown",
   "metadata": {},
   "source": [
    "Get the next set of follows (101 to 200) using the cursor."
   ]
  },
  {
   "cell_type": "code",
   "execution_count": null,
   "metadata": {},
   "outputs": [],
   "source": [
    "next_follows = client.get_follows(\n",
    "    actor = 'brianckeegan.com',\n",
    "    limit = 100,\n",
    "    cursor = follows.cursor\n",
    ")"
   ]
  },
  {
   "cell_type": "markdown",
   "metadata": {},
   "source": [
    "Check that these are different accounts returned."
   ]
  },
  {
   "cell_type": "code",
   "execution_count": null,
   "metadata": {},
   "outputs": [],
   "source": [
    "follows.follows[0].handle == next_follows.follows[0].handle"
   ]
  },
  {
   "cell_type": "markdown",
   "metadata": {},
   "source": [
    "### Followers\n",
    "Followers are the other accounts that follow a user. The user's posts appear in their timelines. We can only retrieve up to 100 at a time."
   ]
  },
  {
   "cell_type": "code",
   "execution_count": 24,
   "metadata": {},
   "outputs": [
    {
     "data": {
      "text/plain": [
       "100"
      ]
     },
     "execution_count": 24,
     "metadata": {},
     "output_type": "execute_result"
    }
   ],
   "source": [
    "followers = client.get_followers(actor='brianckeegan.com',limit=100)\n",
    "\n",
    "len(followers.followers)"
   ]
  },
  {
   "cell_type": "markdown",
   "metadata": {},
   "source": [
    "Inspect one of these followers."
   ]
  },
  {
   "cell_type": "code",
   "execution_count": 25,
   "metadata": {},
   "outputs": [
    {
     "data": {
      "text/plain": [
       "{'did': 'did:plc:3rvwizwndqx6cnwdbfywliut',\n",
       " 'handle': 'lanebecker.bsky.social',\n",
       " 'associated': None,\n",
       " 'avatar': 'https://cdn.bsky.app/img/avatar/plain/did:plc:3rvwizwndqx6cnwdbfywliut/bafkreigsozlbubyrqrzqplhilua7l7uawnzjmv2vzu5eybjdokch2al2ji@jpeg',\n",
       " 'created_at': '2024-10-31T13:42:54.762Z',\n",
       " 'description': 'Prestidigitation, double shuffling, honey-fugling, hornswaggling, & skullduggery.',\n",
       " 'display_name': 'Lane Becker',\n",
       " 'indexed_at': '2024-11-09T20:50:05.314Z',\n",
       " 'labels': [],\n",
       " 'viewer': {'blocked_by': False,\n",
       "  'blocking': None,\n",
       "  'blocking_by_list': None,\n",
       "  'followed_by': 'at://did:plc:3rvwizwndqx6cnwdbfywliut/app.bsky.graph.follow/3lauzfpzcpv2s',\n",
       "  'following': None,\n",
       "  'known_followers': None,\n",
       "  'muted': False,\n",
       "  'muted_by_list': None,\n",
       "  'py_type': 'app.bsky.actor.defs#viewerState'},\n",
       " 'py_type': 'app.bsky.actor.defs#profileView'}"
      ]
     },
     "execution_count": 25,
     "metadata": {},
     "output_type": "execute_result"
    }
   ],
   "source": [
    "followers.followers[0].dict()"
   ]
  },
  {
   "cell_type": "markdown",
   "metadata": {},
   "source": [
    "## Posting content"
   ]
  },
  {
   "cell_type": "markdown",
   "metadata": {},
   "source": [
    "### Writing a post"
   ]
  },
  {
   "cell_type": "code",
   "execution_count": 128,
   "metadata": {},
   "outputs": [
    {
     "data": {
      "text/plain": [
       "CreateRecordResponse(uri='at://did:plc:lse7quaysss2d3xxm76mouhd/app.bsky.feed.post/3lareilifis2h', cid='bafyreifacygwvqtrqc7dts2fk67iyv2sa2u3irqdlry7trusq424zmqu7a')"
      ]
     },
     "execution_count": 128,
     "metadata": {},
     "output_type": "execute_result"
    }
   ],
   "source": [
    "client.send_post(\"I am posting this from a Jupyter Notebook in my class!\")"
   ]
  },
  {
   "cell_type": "markdown",
   "metadata": {},
   "source": [
    "### Liking a post"
   ]
  },
  {
   "cell_type": "code",
   "execution_count": 129,
   "metadata": {},
   "outputs": [
    {
     "data": {
      "text/plain": [
       "CreateRecordResponse(uri='at://did:plc:lse7quaysss2d3xxm76mouhd/app.bsky.feed.like/3lareki7q6p23', cid='bafyreiclt4hminrjuj5c5zvsobrdmvx5jetw7xjpopkffj4ma35eflcsiu')"
      ]
     },
     "execution_count": 129,
     "metadata": {},
     "output_type": "execute_result"
    }
   ],
   "source": [
    "client.like(\n",
    "    uri='at://did:plc:lse7quaysss2d3xxm76mouhd/app.bsky.feed.post/3lareilifis2h',\n",
    "    cid='bafyreifacygwvqtrqc7dts2fk67iyv2sa2u3irqdlry7trusq424zmqu7a'\n",
    ")"
   ]
  },
  {
   "cell_type": "markdown",
   "metadata": {},
   "source": [
    "### Writing a post with an image"
   ]
  },
  {
   "cell_type": "code",
   "execution_count": 132,
   "metadata": {},
   "outputs": [
    {
     "data": {
      "text/plain": [
       "CreateRecordResponse(uri='at://did:plc:lse7quaysss2d3xxm76mouhd/app.bsky.feed.post/3larexne6vk23', cid='bafyreihu76mm2xakrlzasrpmlvyyatvi2idlyf3j2rqeqo3tsgh6nioure')"
      ]
     },
     "execution_count": 132,
     "metadata": {},
     "output_type": "execute_result"
    }
   ],
   "source": [
    "with open('/Users/briankeegan/Desktop/small_class.jpg','rb') as img:\n",
    "    img_data = img.read()\n",
    "\n",
    "client.send_image(\n",
    "    text = 'Now we are sending images from a notebook!',\n",
    "    image = img_data,\n",
    "    image_alt = 'Selfie with class'\n",
    ")"
   ]
  }
 ],
 "metadata": {
  "kernelspec": {
   "display_name": "Python 3 (ipykernel)",
   "language": "python",
   "name": "python3"
  },
  "language_info": {
   "codemirror_mode": {
    "name": "ipython",
    "version": 3
   },
   "file_extension": ".py",
   "mimetype": "text/x-python",
   "name": "python",
   "nbconvert_exporter": "python",
   "pygments_lexer": "ipython3",
   "version": "3.9.18"
  }
 },
 "nbformat": 4,
 "nbformat_minor": 4
}
